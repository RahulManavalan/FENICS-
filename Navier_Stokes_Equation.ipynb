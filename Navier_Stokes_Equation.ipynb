{
  "nbformat": 4,
  "nbformat_minor": 0,
  "metadata": {
    "colab": {
      "name": "Copy of HPFEM assignment template.ipynb",
      "provenance": [],
      "collapsed_sections": []
    },
    "kernelspec": {
      "name": "python3",
      "display_name": "Python 3"
    },
    "accelerator": "GPU"
  },
  "cells": [
    {
      "cell_type": "markdown",
      "metadata": {
        "id": "Pp4MM-33l_YS",
        "colab_type": "text"
      },
      "source": [
        "### MOOC-HPFEM: Template notebook to be used to complete the assignments\n",
        "\n"
      ]
    },
    {
      "cell_type": "markdown",
      "metadata": {
        "id": "cExGXg9z8A_r",
        "colab_type": "text"
      },
      "source": [
        "The present notebook is meant to be a template for you to use while doing the assignments of the course. The first cell is meant to be run as-is and takes care of configuring the environment for you. The second cell is empty by default and is where you are supposed to paste the code you are given in the assignments so that you can modify and run it."
      ]
    },
    {
      "cell_type": "markdown",
      "metadata": {
        "id": "-6QptgpcqKtw",
        "colab_type": "text"
      },
      "source": [
        "### FEniCS DFS formulation to run and modify yourself"
      ]
    },
    {
      "cell_type": "code",
      "metadata": {
        "id": "8A1ZaXJ88D7d",
        "colab_type": "code",
        "cellView": "both",
        "colab": {}
      },
      "source": [
        "#@title\n",
        "# Setup system environment and define utility functions and variables\n",
        "from google.colab import files\n",
        "try:\n",
        "    from dolfin import *; from mshr import *\n",
        "except ImportError as e:\n",
        "    !apt-get install -y -qq software-properties-common python-software-properties module-init-tools\n",
        "    !add-apt-repository -y ppa:fenics-packages/fenics\n",
        "    !apt-get update -qq\n",
        "    !sed -e 's:artful:bionic:' /etc/apt/sources.list.d/fenics-packages-ubuntu-fenics-artful.list > temp\n",
        "    !mv temp /etc/apt/sources.list.d/fenics-packages-ubuntu-fenics-artful.list\n",
        "    !sed -e 's:artful:bionic:' /etc/apt/sources.list > temp\n",
        "    !mv temp /etc/apt/sources.list\n",
        "    !apt-get update -qq\n",
        "    !apt install -y --no-install-recommends fenics    \n",
        "    from dolfin import *; from mshr import *\n",
        "\n",
        "\n",
        "import matplotlib.pyplot as plt\n",
        "from IPython.display import clear_output, display, update_display\n",
        "import time\n",
        "import dolfin.common.plotting as fenicsplot \n",
        "import numpy as np \n",
        "import logging ; \n",
        "logging.getLogger('FFC').setLevel(logging.WARNING) \n",
        "set_log_active(False)\n",
        "\n",
        "# Compact plot utility function\n",
        "def plot_compact(u, t, stepcounter): \n",
        "    if stepcounter % 2.5 == 0:\n",
        "        uEuclidnorm = project(sqrt(inner(u, u)), Q); \n",
        "        ax.cla(); \n",
        "        fig = plt.gcf(); \n",
        "        fig.set_size_inches(16, 2)\n",
        "\n",
        "        # Plot norm of velocity\n",
        "        ax1 = plt.subplot(1, 2, 1);\n",
        "        pp = plot(uEuclidnorm); \n",
        "        plt.title(\"Velocity\")\n",
        "\n",
        "        if t == 0.: \n",
        "           plt.colorbar(pp); \n",
        "           plt.axis(G)\n",
        "\n",
        "        plt.subplot(1, 2, 2);\n",
        "\n",
        "        if t == 0.:\n",
        "           plot(Q.mesh()) \n",
        "           plt.title(\"Mesh\") # Plot mesh\n",
        "        display(pl)\n",
        "\n",
        "        plt.suptitle(\"Navier-Stokes t: %f\" % (t));\n",
        "        plt.tight_layout();\n",
        "        clear_output(wait=True);\n",
        "\n",
        "def plot_compact_static(u, QQ, label = \"Velocity\"): # Compact plot utility function\n",
        "  pl, ax = plt.subplots();\n",
        "  uEuclidnorm = project(sqrt(inner(u, u)), QQ); ax.cla(); fig = plt.gcf(); fig.set_size_inches(16, 4)\n",
        "  plt.subplot(1, 2, 1); pp = plot(uEuclidnorm, cmap=\"coolwarm\"); plt.title(\"%s\" % (label)) # Plot norm of velocity\n",
        "  plt.axis(G); plt.colorbar(pp, shrink=0.5); \n",
        "  plt.subplot(1, 2, 2);\n",
        "  plot(QQ.mesh()); plt.title(\"Mesh\") # Plot mesh\n",
        "  plt.tight_layout(); dpl = display(pl, display_id=\"test\");\n",
        "  \n",
        "  return (pl, ax)\n",
        "\n"
      ],
      "execution_count": 0,
      "outputs": []
    },
    {
      "cell_type": "code",
      "metadata": {
        "id": "k_21ApMfcO-7",
        "colab_type": "code",
        "colab": {
          "base_uri": "https://localhost:8080/",
          "height": 195
        },
        "outputId": "29c36a6a-68bc-48af-8c1c-5f84340fa883"
      },
      "source": [
        "# Generate domain and mesh\n",
        "XMIN = 0.; \n",
        "XMAX = 4.; \n",
        "YMIN = 0; \n",
        "YMAX = 1.; \n",
        "G = [XMIN, XMAX, YMIN, YMAX]; \n",
        "eps = 1e-5\n",
        "\n",
        "mresolution=50\n",
        "mesh = generate_mesh(Rectangle(Point(G[0], G[2]), Point(G[1], G[3])) - Rectangle(Point(0.15,0.45),Point(.75,.55)), mresolution)\n",
        "\n",
        "# FEM function spaces and functions\n",
        "Ve = VectorElement(\"CG\", mesh.ufl_cell(), 1)\n",
        "Qe = FiniteElement(\"CG\", mesh.ufl_cell(), 1)\n",
        "Q = FunctionSpace(mesh, Qe)\n",
        "V = VectorFunctionSpace(mesh, \"CG\", 1)\n",
        "W = FunctionSpace(mesh, Ve * Qe)\n",
        "h = CellDiameter(mesh) \n",
        "(v, q) = TestFunctions(W);\n",
        "w = Function(W); \n",
        "(u, p) = (as_vector((w[0], w[1])), w[2]); \n",
        "u0 = Function(V)\n",
        "\n",
        "# Inlet velocity\n",
        "uin = Expression((\"4*(x[1]*(YMAX-x[1]))/(YMAX*YMAX)\", \"0.\"), YMAX=YMAX,degree=2) \n",
        "\n",
        "# Mark regions for boundary conditions\n",
        "om = Expression(\"x[0] > XMAX - eps ? 1. : 0.\", XMAX=XMAX, eps=eps,degree=2) \n",
        "im = Expression(\"x[0] < XMIN + eps ? 1. : 0.\", XMIN=XMIN, eps=eps,degree=2)\n",
        "nm = Expression(\"x[0] > XMIN + eps && x[0] < XMAX - eps ? 1. : 0.\", XMIN=XMIN, XMAX=XMAX, eps=eps,degree=2)\n",
        "\n",
        "# Timestep, viscosity and stabilization parameters\n",
        "k = 0.1; \n",
        "nu = 1e-6; \n",
        "d = .2*h**(3./2.) \n",
        "\n",
        "# Time interval and penalty parameter\n",
        "t, T = 0., 10.; \n",
        "gamma = 10*1./h \n",
        "\n",
        "pl, ax = plt.subplots(); \n",
        "\n",
        "# Initialize time stepping\n",
        "stepcounter = 0; \n",
        "timer0 = time.clock()\n",
        "\n",
        "# Time stepping method\n",
        "theta = 0.5 # 0.5 - Midpoint rule, 1.0 - Implicit Euler, 0.0 - Explicit Euler\n",
        "\n",
        "# Time-stepping loop\n",
        "while t < T: \n",
        "    # Weak residual of stabilized FEM for Navier-Stokes eq.\n",
        "    um = theta*u + (1.0-theta)*u0\n",
        "    \n",
        "    # Navier-Stokes equations in weak residual form\n",
        "    r = ((inner((u - u0)/k + grad(p) + grad(um)*um, v) + nu*inner(grad(um), grad(v)) + div(um)*q)*dx +\n",
        "        gamma*(om*p*q + im*inner(u - uin, v) + nm*inner(u, v))*ds + # Weak boundary conditions\n",
        "        d*(inner(grad(p) + grad(um)*um, grad(q) + grad(um)*v) + inner(div(um), div(v)))*dx) # Stabilization\n",
        "    \n",
        "    # Solve the Navier-Stokes PDE (one timestep)\n",
        "    solve(r==0, w)  \n",
        "\n",
        "    # Visualize the solution\n",
        "    plot_compact(u, t, stepcounter) # Plot all quantities (see implementation above)\n",
        "    \n",
        "    # Shift to next timestep\n",
        "    t += k; \n",
        "    stepcounter += 1; \n",
        "    u0 = project(u, V); \n",
        "\n",
        "print (\"elapsed CPU time: %f \" %(time.clock() - timer0))\n",
        "n = FacetNormal(mesh)\n",
        "psimarker = Expression(\"pow((x[0]-0.5),2) + pow((x[1]-0.5),2) < pow(0.1,2)+eps\" , eps = eps , degree=2) \n",
        "M1 = psimarker*p*n[0]*ds # Drag (only pressure)\n",
        "drag_force = assemble(M1)\n",
        "print(drag_force)"
      ],
      "execution_count": 67,
      "outputs": [
        {
          "output_type": "stream",
          "text": [
            "elapsed CPU time: 111.869836 \n",
            "0.0\n"
          ],
          "name": "stdout"
        },
        {
          "output_type": "display_data",
          "data": {
            "image/png": "[encoded data removed]",
            "text/plain": [
              "<Figure size 1152x144 with 2 Axes>"
            ]
          },
          "metadata": {
            "tags": [],
            "needs_background": "light"
          }
        }
      ]
    },
    {
      "cell_type": "code",
      "metadata": {
        "id": "KC5tQBARjRr1",
        "colab_type": "code",
        "colab": {}
      },
      "source": [
        "? generate_mesh"
      ],
      "execution_count": 0,
      "outputs": []
    },
    {
      "cell_type": "code",
      "metadata": {
        "id": "pnSpTVJl5pqQ",
        "colab_type": "code",
        "colab": {}
      },
      "source": [
        ""
      ],
      "execution_count": 0,
      "outputs": []
    }
  ]
}